{
 "cells": [
  {
   "cell_type": "markdown",
   "metadata": {
    "id": "KszlQG0FbhTO"
   },
   "source": [
    "# Download MNIST Datset\n",
    "Dataset이 없는 최초 1회만 실행"
   ]
  },
  {
   "cell_type": "code",
   "execution_count": null,
   "metadata": {
    "colab": {
     "base_uri": "https://localhost:8080/"
    },
    "id": "K5PYBIonO5jb",
    "outputId": "1b8ed08e-80fc-4afc-a73e-db39047c8b21"
   },
   "outputs": [],
   "source": [
    "# Download MNIST\n",
    "!wget --no-check-certificate http://yann.lecun.com/exdb/mnist/train-images-idx3-ubyte.gz\n",
    "!wget --no-check-certificate http://yann.lecun.com/exdb/mnist/train-labels-idx1-ubyte.gz\n",
    "!wget --no-check-certificate http://yann.lecun.com/exdb/mnist/t10k-images-idx3-ubyte.gz\n",
    "!wget --no-check-certificate http://yann.lecun.com/exdb/mnist/t10k-labels-idx1-ubyte.gz\n",
    "!gzip -f -d train-images-idx3-ubyte.gz\n",
    "!gzip -f -d train-labels-idx1-ubyte.gz\n",
    "!gzip -f -d t10k-images-idx3-ubyte.gz\n",
    "!gzip -f -d t10k-labels-idx1-ubyte.gz"
   ]
  },
  {
   "cell_type": "markdown",
   "metadata": {
    "id": "joS0tbPn2FFo"
   },
   "source": [
    "# Dataset & Dataloader"
   ]
  },
  {
   "cell_type": "code",
   "execution_count": 1,
   "metadata": {
    "id": "_zOrpTtTSZRv"
   },
   "outputs": [],
   "source": [
    "import numpy as np\n",
    "import torch\n",
    "from PIL import Image\n",
    "from torchvision.datasets.mnist import read_image_file, read_label_file\n",
    "import torchvision.transforms as transforms\n",
    "import matplotlib.pyplot as plt\n",
    "import os\n",
    "from torchvision import transforms, utils, models\n",
    "import torch.nn as nn\n",
    "import time\n",
    "\n",
    "device = torch.device(\"cuda:0\" if torch.cuda.is_available() else \"cpu\")\n",
    "\n",
    "# Custom Dataloader to separate 0 and 1~9 label data.\n",
    "class custom_MNIST(torch.utils.data.Dataset):\n",
    "    training_file = \"training.pt\"\n",
    "    test_file = \"test.pt\"\n",
    "\n",
    "    def __init__(self, root = './', train = True, transform=None):\n",
    "        super().__init__()\n",
    "        self.root = root  \n",
    "        self.train = train  # training set(True) or test set(False)\n",
    "        self.data, self.targets = self._load_data()\n",
    "        self.transform = transform\n",
    "\n",
    "        if self.train: \n",
    "            self._del_zeros()\n",
    "\n",
    "    def _load_data(self):\n",
    "        image_file = f\"{'train' if self.train else 't10k'}-images-idx3-ubyte\"\n",
    "        data = read_image_file(os.path.join(self.root, image_file))\n",
    "        label_file = f\"{'train' if self.train else 't10k'}-labels-idx1-ubyte\"\n",
    "        targets = read_label_file(os.path.join(self.root, label_file))\n",
    "        return data, targets\n",
    "    \n",
    "    def _del_zeros(self):\n",
    "        idx = self.targets != 0\n",
    "        self.data = self.data[idx]\n",
    "        self.targets = self.targets[idx]\n",
    "\n",
    "    def __getitem__(self, index):\n",
    "        img, target = self.data[index], self.targets[index]\n",
    "        img = img.numpy()\n",
    "        if self.transform is not None:\n",
    "            img = self.transform(img)\n",
    "\n",
    "        return img, target\n",
    "\n",
    "    def _select_index(self, index):\n",
    "        self.data = self.data[index]\n",
    "        self.targets = self.targets[index]\n",
    "\n",
    "    def __len__(self):\n",
    "        return len(self.data)"
   ]
  },
  {
   "cell_type": "code",
   "execution_count": 2,
   "metadata": {
    "id": "hqj2Zv2dUv9d"
   },
   "outputs": [
    {
     "name": "stderr",
     "output_type": "stream",
     "text": [
      "/usr/local/lib/python3.6/site-packages/torchvision/datasets/mnist.py:502: UserWarning: The given NumPy array is not writeable, and PyTorch does not support non-writeable tensors. This means you can write to the underlying (supposedly non-writeable) NumPy array using the tensor. You may want to copy the array to protect its data or make it writeable before converting it to a tensor. This type of warning will be suppressed for the rest of this program. (Triggered internally at  /pytorch/torch/csrc/utils/tensor_numpy.cpp:143.)\n",
      "  return torch.from_numpy(parsed.astype(m[2], copy=False)).view(*s)\n"
     ]
    }
   ],
   "source": [
    "transform = transforms.Compose([transforms.ToTensor()])\n",
    "\n",
    "# leave 5000 images for validation\n",
    "train_dataset = custom_MNIST(train=True, transform=transform)\n",
    "n = len(train_dataset)\n",
    "train_dataset._select_index(torch.arange(n-5000))\n",
    "\n",
    "valid_dataset = custom_MNIST(train=True, transform=transform)\n",
    "valid_dataset._select_index(torch.arange(n-5000,n))\n",
    "\n",
    "test_dataset = custom_MNIST(train=False, transform=transform)\n",
    "\n",
    "bs = 32\n",
    "\n",
    "train_loader = torch.utils.data.DataLoader(dataset=train_dataset, batch_size=bs, shuffle=True)\n",
    "valid_loader = torch.utils.data.DataLoader(dataset=valid_dataset, batch_size=len(valid_dataset), shuffle=True)\n",
    "test_loader = torch.utils.data.DataLoader(dataset=test_dataset, batch_size=bs, shuffle=False)"
   ]
  },
  {
   "cell_type": "code",
   "execution_count": 3,
   "metadata": {},
   "outputs": [
    {
     "data": {
      "text/plain": [
       "(49077, 5000)"
      ]
     },
     "execution_count": 3,
     "metadata": {},
     "output_type": "execute_result"
    }
   ],
   "source": [
    "len(train_dataset), len(valid_dataset)"
   ]
  },
  {
   "cell_type": "code",
   "execution_count": 4,
   "metadata": {},
   "outputs": [],
   "source": [
    "class AddGaussianNoise(object):\n",
    "    def __init__(self, mean=0., std=0.2):\n",
    "        self.std = std\n",
    "        self.mean = mean\n",
    "        \n",
    "    def __call__(self, tensor):\n",
    "        out = tensor + (torch.randn(tensor.size()) * self.std + self.mean).to(device)\n",
    "        out = torch.clamp(out,min=0,max=1)\n",
    "        return out\n",
    "    \n",
    "    def __repr__(self):\n",
    "        return self.__class__.__name__ + f'(mean={self.mean}, std={self.std})'\n",
    "transform_noise = transforms.Compose([transforms.ToTensor(),\n",
    "                                AddGaussianNoise(0., 0.3)])"
   ]
  },
  {
   "cell_type": "code",
   "execution_count": 5,
   "metadata": {},
   "outputs": [],
   "source": [
    "class RandomMasking(object):\n",
    "    def __init__(self,size=13, color=0.2):\n",
    "        self.size = size\n",
    "        self.color = color\n",
    "        self.applyratio = 0.9\n",
    "    \n",
    "    def __call__(self, tensor, applyratio):\n",
    "        self.applyratio = applyratio\n",
    "        \n",
    "        img = tensor.clone()\n",
    "        margin = 2\n",
    "        \n",
    "        applynum = round(tensor.size(0)*self.applyratio)\n",
    "        applyidx = np.random.choice(np.arange(tensor.size(0)),applynum,replace=False)\n",
    "        \n",
    "        x=torch.randint(low=margin, high=img.size(2)-margin-self.size,size=(applynum,))\n",
    "        y=torch.randint(low=margin, high=img.size(3)-margin-self.size,size=(applynum,))\n",
    "        \n",
    "        s = np.random.choice(np.arange(self.size-3,self.size+2+1))\n",
    "\n",
    "        for i in range(s):\n",
    "            for j in range(s):\n",
    "                img[applyidx,0,x+i,y+j]= self.color\n",
    "\n",
    "        img = torch.clamp(img,min=0)\n",
    "        return img\n",
    "    \n",
    "    def __repr__(self):\n",
    "        return self.__class__.__name__ + f'(color={self.color}, scale={self.scale})'"
   ]
  },
  {
   "cell_type": "markdown",
   "metadata": {
    "id": "3Lk9EAZU5Uuy"
   },
   "source": [
    "### Dataset Visualization"
   ]
  },
  {
   "cell_type": "code",
   "execution_count": 6,
   "metadata": {
    "colab": {
     "base_uri": "https://localhost:8080/",
     "height": 251
    },
    "id": "E95cUoIf5gEh",
    "outputId": "3b1e41d6-1af6-4c2b-c4ba-8fc2bbe161b2"
   },
   "outputs": [
    {
     "data": {
      "image/png": "[encoded data removed]",
      "text/plain": [
       "<Figure size 720x216 with 20 Axes>"
      ]
     },
     "metadata": {
      "needs_background": "light"
     },
     "output_type": "display_data"
    }
   ],
   "source": [
    "# Visualize Train Sample\n",
    "for img,labels in train_loader:\n",
    "    fig, (axs) = plt.subplots(2, 10, figsize=(10,3))\n",
    "    for i in range(10):\n",
    "        for j in range(2):\n",
    "            axs[j,i].imshow(img[i+j*10,0],cmap='gray')\n",
    "            axs[j,i].set_title(labels[i+j*10].item())\n",
    "            axs[j,i].axis('off')\n",
    "    break"
   ]
  },
  {
   "cell_type": "code",
   "execution_count": 7,
   "metadata": {
    "colab": {
     "base_uri": "https://localhost:8080/",
     "height": 251
    },
    "id": "0DB0Kqcc5Uix",
    "outputId": "b445c702-c4d4-4169-b932-66468ef6d987"
   },
   "outputs": [
    {
     "data": {
      "image/png": "[encoded data removed]",
      "text/plain": [
       "<Figure size 720x216 with 20 Axes>"
      ]
     },
     "metadata": {
      "needs_background": "light"
     },
     "output_type": "display_data"
    }
   ],
   "source": [
    "# Visualize Test Sample\n",
    "for img,labels in test_loader:\n",
    "    fig, (axs) = plt.subplots(2, 10, figsize=(10,3))\n",
    "    for i in range(10):\n",
    "        for j in range(2):\n",
    "            axs[j,i].imshow(img[i+j*10,0],cmap='gray')\n",
    "            axs[j,i].set_title(labels[i+j*10].item())\n",
    "            axs[j,i].axis('off')\n",
    "    break"
   ]
  },
  {
   "cell_type": "markdown",
   "metadata": {},
   "source": [
    "### Util Function Definitions"
   ]
  },
  {
   "cell_type": "code",
   "execution_count": 8,
   "metadata": {},
   "outputs": [],
   "source": [
    "def confusion_matrix(y, pred):\n",
    "    TP_idx = (y!=0)*(pred!=0)\n",
    "    FN_idx = (y!=0)*(pred==0)\n",
    "    FP_idx = (y==0)*(pred!=0)\n",
    "    TN_idx = (y==0)*(pred==0)\n",
    "\n",
    "    return TP_idx, FN_idx, FP_idx, TN_idx\n",
    "\n",
    "def eval_measures(y, pred):\n",
    "    TP_idx, FN_idx, FP_idx, TN_idx = confusion_matrix(y, pred)\n",
    "    TP = TP_idx.sum().item()\n",
    "    FN = FN_idx.sum().item()\n",
    "    FP = FP_idx.sum().item()\n",
    "    TN = TN_idx.sum().item()\n",
    "    \n",
    "    measures_dict = dict()\n",
    "    measures_dict['FPR'] = 100*FP/(TN+FP) \n",
    "    measures_dict['TPR'] = 100*TP/(TP+FN) # Recall\n",
    "    \n",
    "    if (TP+FP)!=0 : \n",
    "        measures_dict['precision'] = 100*TP/(TP+FP)\n",
    "    else:\n",
    "        measures_dict['precision'] = 0\n",
    "    \n",
    "    \n",
    "    denom = y.size(0)\n",
    "    nom = (y==pred).sum().item()\n",
    "    measures_dict['acc'] = 100*nom/denom\n",
    "    \n",
    "    denom = (y!=0).sum().item()\n",
    "    nom = (y[y!=0]==pred[y!=0]).sum().item()\n",
    "    measures_dict['non-zero acc'] = 100*nom/denom\n",
    "    \n",
    "    denom = (y==0).sum().item()\n",
    "    nom = (y[y==0]==pred[y==0]).sum().item()\n",
    "    measures_dict['zero acc'] = 100*nom/denom\n",
    "    \n",
    "    \n",
    "    return {k:round(v,2) for k,v in measures_dict.items()}"
   ]
  },
  {
   "cell_type": "code",
   "execution_count": 9,
   "metadata": {},
   "outputs": [],
   "source": [
    "def thresholded_pred(pred, prob, mse, prob_t=1., mse_t=0.):\n",
    "    pred_ = pred.clone()\n",
    "    \n",
    "    if mse == None:\n",
    "        pred_[(prob<prob_t)]=0    \n",
    "    elif prob == None:\n",
    "        pred_[(mse>mse_t)]=0    \n",
    "    else:\n",
    "        pred_[(mse>mse_t)*(prob<prob_t)]=0\n",
    "    \n",
    "    return pred_\n",
    "    \n",
    "\n",
    "def plot_fpr(y,pred,prob=None,mse=None):\n",
    "    FPR_list =[]\n",
    "    TPR_list =[]\n",
    "    \n",
    "    zero_acc_list = []\n",
    "    else_acc_list = []\n",
    "    \n",
    "    best_FPR = 100\n",
    "    best_TPR = 0\n",
    "    best_diff = best_TPR-best_FPR\n",
    "    \n",
    "    best_zero_acc = 0\n",
    "    best_else_acc = 0\n",
    "    best_total_acc = 0\n",
    "    \n",
    "    for threshold in np.arange(1,1001)/1000:\n",
    "        \n",
    "        if mse==None:\n",
    "            pred2 = thresholded_pred(pred, prob, mse, prob_t = threshold)\n",
    "        else:\n",
    "            pred2 = thresholded_pred(pred, prob, mse, mse_t = threshold)\n",
    "        \n",
    "        temp = eval_measures(y,pred2)\n",
    "        FPR_list.append(temp['FPR'])\n",
    "        TPR_list.append(temp['TPR'])\n",
    "        zero_acc_list.append(temp['zero acc'])\n",
    "        else_acc_list.append(temp['non-zero acc'])\n",
    "        \n",
    "        if (temp['TPR']-temp['FPR'])>best_diff:\n",
    "            best_diff = temp['TPR']-temp['FPR']\n",
    "            best_TPR = temp['TPR']\n",
    "            best_FPR = temp['FPR']\n",
    "            best_threshold = threshold\n",
    "            \n",
    "        if (temp['zero acc']+temp['non-zero acc'])>best_total_acc:\n",
    "            best_total_acc = temp['zero acc']+temp['non-zero acc']\n",
    "            best_zero_acc = temp['zero acc']\n",
    "            best_else_acc = temp['non-zero acc']\n",
    "            best_threshold2 = threshold\n",
    "        \n",
    "    plt.plot(FPR_list,TPR_list)\n",
    "    plt.xlim([0,100])\n",
    "    plt.ylim([0,100])\n",
    "    plt.annotate(f't={best_threshold} \\n(FPR={best_FPR},TPR={best_TPR}) \\n \\\n",
    "t={best_threshold2} \\n(zero acc {best_zero_acc} + else acc {best_else_acc} = {best_total_acc/2:.3f}) ', \\\n",
    "                 xy =(best_FPR, best_TPR),xytext =(best_FPR+5, best_TPR-5),verticalalignment='top',\\\n",
    "                 arrowprops=dict(facecolor='black',width=0.1,headwidth=0.1))\n",
    "    plt.show()\n",
    "    \n",
    "    return best_threshold2"
   ]
  },
  {
   "cell_type": "code",
   "execution_count": 10,
   "metadata": {},
   "outputs": [],
   "source": [
    "def show_distributions(y, pred, prob):\n",
    "    \n",
    "    print(eval_measures(y, pred))\n",
    "    TP_idx, FN_idx, FP_idx, TN_idx = confusion_matrix(y, pred)\n",
    "    TP_prob, FN_prob, FP_prob, TN_prob = [prob[x].cpu().detach().numpy() if x.sum().item()>0 \\\n",
    "                                          else np.array(0) for x in confusion_matrix(y, pred)]\n",
    "\n",
    "    nonzero_correct = prob[(pred==y)*(y!=0)].cpu().detach().numpy()\n",
    "    nonzero_incorrect = prob[(pred!=y)*(y!=0)].cpu().detach().numpy()\n",
    "\n",
    "    fig, (ax,ax2) = plt.subplots(1,2,figsize=(15,5),  gridspec_kw={'width_ratios': [2, 1]})\n",
    "\n",
    "    violin = ax.violinplot([TP_prob,FN_prob, FP_prob,TN_prob], showmeans=True)\n",
    "    ax.set_ylim([-0.1,1.1])\n",
    "    ax.set_xticks(np.arange(1, 5))\n",
    "    ax.set_xticklabels([f'TP\\n({TP_idx.sum().item()})', f'FN\\n({FN_idx.sum().item()})',\\\n",
    "                        f'FP\\n({FP_idx.sum().item()})', f'TN\\n({TN_idx.sum().item()})'])\n",
    "    ax.set_ylabel('Softmax value distributions')\n",
    "    ax.grid(linestyle='--')\n",
    "    \n",
    "    i=1\n",
    "    for p in [TP_prob, FN_prob, FP_prob, TN_prob]:\n",
    "        mean = round(p.mean(),4)\n",
    "        ax.annotate(mean, xy =(i, mean),xytext =(i+0.1, mean),verticalalignment='center')\n",
    "        i+=1\n",
    "\n",
    "    violin['bodies'][0].set_facecolor('blue')\n",
    "    violin['bodies'][1].set_facecolor('yellow')\n",
    "    violin['bodies'][2].set_facecolor('red')\n",
    "    violin['bodies'][3].set_facecolor('green')\n",
    "\n",
    "    for t in ['cbars','cmaxes','cmins','cmeans']:\n",
    "        violin[t].set_edgecolor('gray')\n",
    "        \n",
    "    \n",
    "    violin2 = ax2.violinplot([nonzero_correct, nonzero_incorrect], showmeans=True)\n",
    "    ax2.set_ylim([-0.1,1.1])\n",
    "    ax2.set_xticks(np.arange(1, 3))\n",
    "    ax2.set_xticklabels([f'1~9 correct\\n({nonzero_correct.size})',\\\n",
    "                        f'1~9 incorrect\\n({nonzero_incorrect.size})'])\n",
    "    ax2.set_ylabel('Softmax value distributions')\n",
    "    ax2.grid(linestyle='--')\n",
    "    \n",
    "    violin2['bodies'][0].set_facecolor('blue')\n",
    "    violin2['bodies'][1].set_facecolor('blue')\n",
    "\n",
    "    for t in ['cbars','cmaxes','cmins','cmeans']:\n",
    "        violin2[t].set_edgecolor('gray')\n",
    "        \n",
    "    i=1\n",
    "    for p in [nonzero_correct, nonzero_incorrect]:\n",
    "        mean = round(p.mean(),4)\n",
    "        ax2.annotate(mean, xy =(i, mean),xytext =(i+0.1, mean),verticalalignment='center')\n",
    "        i+=1\n",
    "\n",
    "    plt.show()"
   ]
  },
  {
   "cell_type": "code",
   "execution_count": 11,
   "metadata": {},
   "outputs": [],
   "source": [
    "def show_distributions2(tensor, label, ytext=''):\n",
    "    dict_ = dict()\n",
    "    \n",
    "    for l in (torch.unique(label)):\n",
    "        idx = (label==l)\n",
    "        dict_[l.item()] = tensor[idx].detach().cpu()\n",
    "\n",
    "    fig, ax = plt.subplots(figsize=(25,5))\n",
    "\n",
    "    violin = ax.violinplot(dict_.values(), showmeans=True, showmedians=True)\n",
    "    ax.set_xticks(np.arange(1,11))\n",
    "    ax.set_xticklabels(np.arange(10))\n",
    "    ax.set_ylabel(ytext)\n",
    "    ax.grid(linestyle='--')\n",
    "\n",
    "    i=1\n",
    "    #{k:v.mean().item() for k,v in mse_by_label.items()}\n",
    "    for k,v in dict_.items():\n",
    "        mean = round(torch.Tensor.float(v).mean().item(),4)\n",
    "        ax.annotate(mean, xy =(i, mean),xytext =(i+0.2, mean),verticalalignment='center',color='steelblue')\n",
    "        i+=1\n",
    "\n",
    "    violin['bodies'][0].set_facecolor('salmon')\n",
    "\n",
    "    for t in ['cbars','cmaxes','cmins','cmedians']:\n",
    "        violin[t].set_edgecolor('gray')\n",
    "    violin['cmeans'].set_edgecolor('steelblue')\n",
    "\n",
    "\n",
    "    plt.show()"
   ]
  },
  {
   "cell_type": "markdown",
   "metadata": {
    "id": "nRR5lY4o1wzo"
   },
   "source": [
    "# Design your method\n",
    "Design your own model and training process"
   ]
  },
  {
   "cell_type": "code",
   "execution_count": 12,
   "metadata": {
    "colab": {
     "base_uri": "https://localhost:8080/"
    },
    "id": "ljWM1O120Zi8",
    "outputId": "6959897c-f560-4e34-f6ea-3b133a5fbb2c"
   },
   "outputs": [],
   "source": [
    "class StdLoss(nn.Module):\n",
    "    def __init__(self):\n",
    "        super(StdLoss,self).__init__()\n",
    "        self.softmax = nn.Softmax(dim=1)\n",
    "        \n",
    "    def forward(self,output,target):\n",
    "        \n",
    "        logit = self.softmax(output)\n",
    "            \n",
    "        wrong_idx = ((logit.max(dim=1)[1])!=target)\n",
    "        std = logit[wrong_idx].std(dim=1)\n",
    "        loss = std.mean() if std.size(0)>0 else 0\n",
    "        \n",
    "        return loss"
   ]
  },
  {
   "cell_type": "code",
   "execution_count": 13,
   "metadata": {},
   "outputs": [],
   "source": [
    "class FocalLoss(nn.Module):\n",
    "    def __init__(self):\n",
    "        super(FocalLoss,self).__init__()\n",
    "        self.softmax = nn.Softmax(dim=1)\n",
    "        self.relu = nn.ReLU()\n",
    "    \n",
    "    def forward(self,output,target,k=1):\n",
    "        logit = self.softmax(output)\n",
    "        \n",
    "        idx = torch.arange(output.size(0))\n",
    "        \n",
    "        target_onehot = torch.zeros((output.size(0),10),dtype=torch.bool).to(device)\n",
    "        target_onehot[idx,target] = True\n",
    "        \n",
    "        loss = -(torch.log(logit[target_onehot]+1e-4)).mean() #-torch.log(logit[idx,target]).mean()\n",
    "        loss += -k*(logit[target_onehot==False]*torch.log(1-logit[target_onehot==False]+1e-4)).view(-1,9).sum(dim=1).mean()\n",
    "\n",
    "        return loss"
   ]
  },
  {
   "cell_type": "code",
   "execution_count": 14,
   "metadata": {},
   "outputs": [],
   "source": [
    "class Model(nn.Module):\n",
    "    def __init__(self):\n",
    "        super(Model, self).__init__()\n",
    "        \n",
    "        resnet18 = models.resnet18(pretrained=True)\n",
    "        resnet18.conv1 = nn.Conv2d(1, 64, kernel_size=(4, 4), stride=(2, 2), padding=(1, 1), bias=False)\n",
    "        \n",
    "        self.encoder = nn.Sequential(*list(resnet18.children()))[:-3]\n",
    "        \n",
    "        self.decoder  = nn.Sequential(\n",
    "                nn.ConvTranspose2d(128,64,kernel_size=4, stride=2, padding=1),\n",
    "                nn.BatchNorm2d(64),\n",
    "                nn.LeakyReLU(),\n",
    "                nn.ConvTranspose2d(64,16,kernel_size=3, stride=2, padding=1),\n",
    "                nn.BatchNorm2d(16),\n",
    "                nn.LeakyReLU(),\n",
    "                nn.ConvTranspose2d(16,8,kernel_size=4, stride=2, padding=1),\n",
    "                nn.LeakyReLU(),\n",
    "                nn.Conv2d(8,1,kernel_size=3, stride=1, padding=0),\n",
    "                nn.Tanh(),\n",
    "            )\n",
    "        \n",
    "        \n",
    "        self.classifier = nn.Linear(256*2*2,10,bias=True)\n",
    "        self.thresholds = None\n",
    "        self.T=1\n",
    "        self.mseLoss = nn.MSELoss()\n",
    "        \n",
    "    def forward(self, x):\n",
    "        \n",
    "        if (self.training) : \n",
    "            self.thresholds = None\n",
    "            \n",
    "            out = self.encoder[:-1](x)\n",
    "\n",
    "            denoised = self.decoder(out)\n",
    "\n",
    "            feature = self.encoder[-1](out)\n",
    "            feature = feature.view(-1,256*2*2)\n",
    "            out = self.classifier(feature)\n",
    "            \n",
    "            return denoised, out\n",
    "        \n",
    "        \n",
    "        else:\n",
    "            \n",
    "            if self.thresholds == None:\n",
    "                \n",
    "                embed_clf = self.encoder(x)\n",
    "                out = self.classifier(embed_clf.flatten(1))\n",
    "                \n",
    "                return out\n",
    "            \n",
    "            else:\n",
    "                \n",
    "                embed_clf = self.encoder(x)\n",
    "                out = self.classifier(embed_clf.flatten(1))/self.T\n",
    "                logit = nn.Softmax(dim=1)(out)\n",
    "                prob, _ = logit.max(dim=1)\n",
    "                \n",
    "                noised = addnoise(x) \n",
    "                noised = randomMasking(noised,1)\n",
    "                embed_den = self.encoder[:-1](noised)\n",
    "                denoised = self.decoder(embed_den)\n",
    "                \n",
    "                logit_ = logit.clone()\n",
    "                \n",
    "                mse_total = []\n",
    "                for i in range(x.size(0)):\n",
    "                    mse_total.append((self.mseLoss(x[i],denoised[i]).item()))\n",
    "                mse_total = torch.tensor(mse_total).to(device)\n",
    "\n",
    "                onehot_zero =torch.tensor([1.,0.,0.,0.,0.,0.,0.,0.,0.,0.]).to(device)\n",
    "                logit_[(prob<self.thresholds[0])*(mse_total>self.thresholds[1])] = onehot_zero\n",
    "                \n",
    "                return logit_\n",
    "                \n",
    "    \n",
    "    def set_threshold(self, valid_data, valid_label):\n",
    "        \n",
    "        with torch.no_grad():\n",
    "            embed_clf = self.encoder(valid_data)\n",
    "            out = self.classifier(embed_clf.flatten(1))/self.T\n",
    "            logit = nn.Softmax(dim=1)(out)\n",
    "            prob, pred = logit.max(dim=1)\n",
    "\n",
    "            noised = randomMasking(valid_data,1)\n",
    "            noised = addnoise(noised)\n",
    "            embed_den = self.encoder[:-1](noised)\n",
    "            denoised = self.decoder(embed_den)\n",
    "            \n",
    "        mse_total = []\n",
    "        for i in range(valid_data.size(0)):\n",
    "            mse_total.append((mseLoss(valid_data[i],denoised[i]).item()))\n",
    "        mse_total = torch.tensor(mse_total).to(device)\n",
    "\n",
    "        mse_t = mse_total[valid_label==0].sort()[0][0].item()\n",
    "        prob_t = self.get_prob_t(valid_label,pred,prob)\n",
    "\n",
    "        self.thresholds = (prob_t, mse_t)\n",
    "        print('thresholds set : ', self.thresholds)\n",
    "        \n",
    "    def get_prob_t(self, y, pred, prob):\n",
    "        zero_acc_list = []\n",
    "        else_acc_list = []\n",
    "\n",
    "        best_zero_acc = 0\n",
    "        best_else_acc = 0\n",
    "        best_total_acc = 0\n",
    "\n",
    "        for threshold in np.arange(1,1001)/1000:\n",
    "            pred_ = pred.clone()\n",
    "            pred_[prob<threshold]=0\n",
    "            temp = eval_measures(y,pred_)\n",
    "            zero_acc_list.append(temp['zero acc'])\n",
    "            else_acc_list.append(temp['non-zero acc'])\n",
    "\n",
    "            if (temp['zero acc']+temp['non-zero acc'])>best_total_acc:\n",
    "                best_total_acc = temp['zero acc']+temp['non-zero acc']\n",
    "                best_zero_acc = temp['zero acc']\n",
    "                best_else_acc = temp['non-zero acc']\n",
    "                best_threshold = threshold\n",
    "                \n",
    "        return best_threshold\n",
    "        \n"
   ]
  },
  {
   "cell_type": "code",
   "execution_count": 15,
   "metadata": {},
   "outputs": [],
   "source": [
    "model = Model()\n",
    "mseLoss =  nn.MSELoss()\n",
    "#ceLoss = nn.CrossEntropyLoss()\n",
    "stdLoss = StdLoss()\n",
    "focalLoss = FocalLoss()\n",
    "\n",
    "learning_rate = 0.01\n",
    "optimizer = torch.optim.Adam(model.parameters(), lr=learning_rate)\n",
    "\n",
    "addnoise = AddGaussianNoise(mean=0.5, std=0.25)\n",
    "randomMasking = RandomMasking(color=0.9)"
   ]
  },
  {
   "cell_type": "code",
   "execution_count": null,
   "metadata": {},
   "outputs": [],
   "source": [
    "# training\n",
    "\n",
    "model.to(device)\n",
    "\n",
    "iteration = 0\n",
    "lambda_ = 0.0\n",
    "start = time.time()\n",
    "for epoch in range(3):\n",
    "    for i, (data, label) in enumerate(train_loader):\n",
    "        \n",
    "        model.train()\n",
    "        data = data.to(device)\n",
    "        label = label.to(device)\n",
    "        \n",
    "        \n",
    "        noised = randomMasking(data,0.8)\n",
    "        noised = addnoise(noised)\n",
    "\n",
    "        optimizer.zero_grad()\n",
    "        \n",
    "        denoised, out = model(noised)\n",
    "        \n",
    "        recon_loss = mseLoss(denoised,data)\n",
    "        #clf_loss = ceLoss(out,label) + 1*stdloss(out,label)\n",
    "        clf_loss = focalLoss(out,label) + 1*stdLoss(out,label)\n",
    "        \n",
    "        loss = recon_loss + lambda_*clf_loss\n",
    "        \n",
    "        loss.backward()\n",
    "        optimizer.step()\n",
    "        \n",
    "        \n",
    "        # Validation at every 1000 iteration\n",
    "        if (iteration%500==0):\n",
    "            print(f'{iteration}th iteration, elapsed time : {time.time()-start :.2f} sec')\n",
    "            print(f'loss: {recon_loss:.4f} + {lambda_*clf_loss:.4f}')\n",
    "            with torch.no_grad():\n",
    "                \n",
    "                model.eval()\n",
    "\n",
    "                total = 0\n",
    "                correct = 0\n",
    "\n",
    "                recon_loss = 0\n",
    "                clf_loss = 0\n",
    "\n",
    "                for data, label in valid_loader:\n",
    "                    data = data.to(device)\n",
    "                    label = label.to(device)\n",
    "\n",
    "                    out = model(data)\n",
    "\n",
    "                    _, pred = torch.max(out,dim=1)\n",
    "\n",
    "                    total += label.size(0)\n",
    "                    correct += (pred == label).sum().item()\n",
    "\n",
    "            acc = 100*correct/total\n",
    "            print(f'prediction accuracy : {acc:.3f}%\\n')\n",
    "            start = time.time()\n",
    "            \n",
    "        iteration += 1\n",
    "        if (iteration == 2001):\n",
    "            lambda_ = 0.01\n",
    "            print(f'>>>lambda set to {lambda_}')\n",
    "            \n",
    "print(f\"Training Done(total {iteration} iteration)\")"
   ]
  },
  {
   "cell_type": "code",
   "execution_count": 43,
   "metadata": {},
   "outputs": [
    {
     "data": {
      "text/plain": [
       "<All keys matched successfully>"
      ]
     },
     "execution_count": 43,
     "metadata": {},
     "output_type": "execute_result"
    }
   ],
   "source": [
    "model = Model()\n",
    "model.to(device)\n",
    "model.load_state_dict(torch.load('./weights/송유진_2019142002_최종weight.pt'))"
   ]
  },
  {
   "cell_type": "code",
   "execution_count": 44,
   "metadata": {},
   "outputs": [
    {
     "name": "stdout",
     "output_type": "stream",
     "text": [
      "torch.Size([5000, 1, 28, 28]) torch.Size([5000])\n"
     ]
    }
   ],
   "source": [
    "for data, label in valid_loader:\n",
    "    data = data.to(device)\n",
    "    label = label.to(device)\n",
    "\n",
    "m = 500\n",
    "zero_label = torch.zeros(m,dtype=torch.int64).to(device)\n",
    "data_ = data[-m:].clone()\n",
    "data_ = torch.rot90(data_,k=1,dims=[2,3])\n",
    "\n",
    "# model.train()\n",
    "# randomMaskingLarge = RandomMasking(size=15, color=0.9)\n",
    "# with torch.no_grad():\n",
    "#     noised = randomMaskingLarge(data_,1)\n",
    "#     noised = addnoise(noised)\n",
    "#     data_, _ = model(noised)\n",
    "\n",
    "valid_data = torch.cat((data[:-m],data_),dim=0)\n",
    "valid_label = torch.cat((label[:-m],zero_label),dim=0)\n",
    "\n",
    "print(valid_data.shape, valid_label.shape)"
   ]
  },
  {
   "cell_type": "code",
   "execution_count": 45,
   "metadata": {},
   "outputs": [
    {
     "name": "stdout",
     "output_type": "stream",
     "text": [
      "thresholds set :  (0.676, 0.015107386745512486)\n"
     ]
    }
   ],
   "source": [
    "model.set_threshold(valid_data,valid_label)"
   ]
  },
  {
   "cell_type": "markdown",
   "metadata": {},
   "source": [
    "## Plotting Results"
   ]
  },
  {
   "cell_type": "code",
   "execution_count": 19,
   "metadata": {},
   "outputs": [
    {
     "data": {
      "image/png": "[encoded data removed]",
      "text/plain": [
       "<Figure size 432x288 with 1 Axes>"
      ]
     },
     "metadata": {
      "needs_background": "light"
     },
     "output_type": "display_data"
    }
   ],
   "source": [
    "model.train()\n",
    "\n",
    "addnoise = AddGaussianNoise(mean=0.5, std=0.25)\n",
    "randomMasking = RandomMasking(color=0.9)\n",
    "\n",
    "T=model.T\n",
    "with torch.no_grad():\n",
    "    _,out = model(valid_data)\n",
    "\n",
    "    logit = nn.Softmax(dim=1)(out/T)\n",
    "    prob, pred = logit.max(dim=1)\n",
    "\n",
    "    noised = randomMasking(valid_data,1)\n",
    "    noised = addnoise(noised)\n",
    "    denoised, _ = model(noised)\n",
    "\n",
    "mse_total = []\n",
    "for i in range(valid_data.size(0)):\n",
    "    mse_total.append((mseLoss(valid_data[i],denoised[i]).item()))\n",
    "mse_total = torch.tensor(mse_total).to(device)\n",
    "\n",
    "mse_t = mse_total[valid_label==0].sort()[0][0].item()\n",
    "pred_t = plot_fpr(valid_label,pred,prob=prob)"
   ]
  },
  {
   "cell_type": "code",
   "execution_count": null,
   "metadata": {},
   "outputs": [],
   "source": [
    "#show_distributions2(prob.detach(), label, ytext='Denoiser Logit')\n",
    "show_distributions2(mse_total, valid_label, ytext='Reconstruction Loss(MSE)')\n",
    "show_distributions(valid_label, pred, prob)\n",
    "show_distributions(valid_label, thresholded_pred(pred,prob,mse_total,prob_t=0.653,mse_t=0.00), prob)"
   ]
  },
  {
   "cell_type": "code",
   "execution_count": null,
   "metadata": {},
   "outputs": [],
   "source": [
    "k=0"
   ]
  },
  {
   "cell_type": "code",
   "execution_count": null,
   "metadata": {},
   "outputs": [],
   "source": [
    "zero_idx = torch.arange(label.size(0))[(valid_label==5)]\n",
    "show_idx = np.random.choice(zero_idx,size=10,replace=False)\n",
    "\n",
    "plt.figure(figsize=(20,7))\n",
    "for i in range(1,1+10):\n",
    "    temp1 = f'pred : {pred[show_idx[i-1]]}({prob[show_idx[i-1]]:.2f})'\n",
    "    \n",
    "    plt.subplot(3,10,i)\n",
    "    plt.title(f'label : {valid_label[show_idx[i-1]]}')\n",
    "    plt.tick_params(left = False, labelleft = False,labelbottom = False, bottom = False)\n",
    "    plt.imshow(valid_data[show_idx[i-1]].detach().cpu().numpy().transpose(1,2,0),cmap='gray')\n",
    "    \n",
    "    plt.subplot(3,10,10+i)\n",
    "    plt.tick_params(left = False, labelleft = False,labelbottom = False, bottom = False)\n",
    "    plt.title(temp1)\n",
    "    plt.imshow(noised[show_idx[i-1]].detach().cpu().numpy().transpose(1,2,0),cmap='gray')\n",
    "    \n",
    "    plt.subplot(3,10,20+i)\n",
    "    plt.title(f'\\n mse : {mse_total[show_idx[i-1]].item():.4f}')\n",
    "    plt.tick_params(left = False, labelleft = False,labelbottom = False, bottom = False)\n",
    "    plt.imshow(denoised[show_idx[i-1]].detach().cpu().numpy().transpose(1,2,0),cmap='gray')"
   ]
  },
  {
   "cell_type": "code",
   "execution_count": null,
   "metadata": {},
   "outputs": [],
   "source": [
    "show_idx = mse_total.squeeze().sort(descending=True)[1].detach().cpu().numpy()\n",
    "\n",
    "plt.figure(figsize=(20,7))\n",
    "for i in range(1,1+10):\n",
    "    plt.subplot(3,10,i)\n",
    "    plt.title(f'label : {valid_label[show_idx[i-1]]}')\n",
    "    plt.tick_params(left = False, labelleft = False,labelbottom = False, bottom = False)\n",
    "    plt.imshow(valid_data[show_idx[i-1]].detach().cpu().numpy().transpose(1,2,0),cmap='gray')\n",
    "    \n",
    "    plt.subplot(3,10,10+i)\n",
    "    plt.tick_params(left = False, labelleft = False,labelbottom = False, bottom = False)\n",
    "    temp1 = f'pred : {pred[show_idx[i-1]]}({prob[show_idx[i-1]]:.2f})'\n",
    "    plt.title(temp1)\n",
    "    plt.imshow(noised[show_idx[i-1]].detach().cpu().numpy().transpose(1,2,0),cmap='gray')\n",
    "    \n",
    "    plt.subplot(3,10,20+i)\n",
    "    plt.title(f'\\n mse : {mse_total[show_idx[i-1]].item():.4f}')\n",
    "    plt.tick_params(left = False, labelleft = False,labelbottom = False, bottom = False)\n",
    "    plt.imshow(denoised[show_idx[i-1]].detach().cpu().numpy().transpose(1,2,0),cmap='gray')"
   ]
  },
  {
   "cell_type": "code",
   "execution_count": null,
   "metadata": {},
   "outputs": [],
   "source": [
    "n=200\n",
    "temp = valid_label[mse_total.squeeze().sort(descending=True)[1]][:n]\n",
    "dict_ = dict()\n",
    "for l in (torch.unique(valid_label)):\n",
    "    dict_[l.item()] = (temp==l).sum()\n",
    "    \n",
    "plt.figure(figsize=(10,5))\n",
    "plt.bar(dict_.keys(),dict_.values(),color='skyblue')\n",
    "plt.title(f'Top {n} Reconstruction Loss(MSE)')\n",
    "plt.xticks(torch.unique(label).detach().cpu().numpy())\n",
    "plt.ylabel('# of instances')\n",
    "plt.xlabel('label')\n",
    "plt.grid()\n",
    "\n",
    "plt.show()"
   ]
  },
  {
   "cell_type": "markdown",
   "metadata": {
    "id": "NsJzRGMIrFGT"
   },
   "source": [
    "# Test Your Model\n",
    "## **Do not modify this cell**\n",
    "zero(0) / else(1~9) Accuracy 따로 측정\n",
    "\n"
   ]
  },
  {
   "cell_type": "code",
   "execution_count": 25,
   "metadata": {
    "id": "e6Vg-ZCIiPJq"
   },
   "outputs": [],
   "source": [
    "class Meter:\n",
    "    def __init__(self):\n",
    "        self.list = []\n",
    "    def update(self, item):\n",
    "        self.list.append(item)\n",
    "    def avg(self):\n",
    "        return torch.tensor(self.list).mean() if len(self.list) else None\n",
    "\n",
    "def compute_accuracy(logits, labels):\n",
    "    pred = torch.argmax(logits, dim=1)\n",
    "    zero_idx= ((labels==0).nonzero(as_tuple=True)[0])\n",
    "    else_idx= ((labels!=0).nonzero(as_tuple=True)[0])\n",
    "\n",
    "    if len(zero_idx) == 0:\n",
    "        zero_acc = None\n",
    "        else_acc = (pred[else_idx] == labels[else_idx]).type(torch.float).mean().item()*100\n",
    "    else:\n",
    "        zero_acc = (pred[zero_idx] == labels[zero_idx]).type(torch.float).mean().item()*100\n",
    "        else_acc = (pred[else_idx] == labels[else_idx]).type(torch.float).mean().item()*100\n",
    "    return zero_acc, else_acc"
   ]
  },
  {
   "cell_type": "code",
   "execution_count": 46,
   "metadata": {
    "colab": {
     "base_uri": "https://localhost:8080/"
    },
    "id": "wAoNxLgvfzbE",
    "outputId": "e48ed9e2-d6dc-4c19-ab5c-32afaa07b6e8"
   },
   "outputs": [
    {
     "name": "stdout",
     "output_type": "stream",
     "text": [
      "zero_acc: 96.4372, else_acc: 89.8528\n"
     ]
    }
   ],
   "source": [
    "acc_zero = Meter()\n",
    "acc_else = Meter()\n",
    "\n",
    "with torch.no_grad():\n",
    "    model.eval()\n",
    "    for i, (data, labels) in enumerate(test_loader):\n",
    "        # Get 0~9 classification output logits / size : Batch x 10\n",
    "        data = data.to(device)\n",
    "        labels = labels.to(device)\n",
    "        \n",
    "        logits = model(data)\n",
    "\n",
    "        zero_acc, else_acc = compute_accuracy(logits, labels)\n",
    "        if zero_acc != None:\n",
    "            acc_zero.update(zero_acc)\n",
    "            acc_else.update(else_acc)\n",
    "        else:\n",
    "            acc_else.update(else_acc)\n",
    "\n",
    "print(\"zero_acc: {:.4f}, else_acc: {:.4f}\".format(acc_zero.avg(), acc_else.avg()))"
   ]
  }
 ],
 "metadata": {
  "colab": {
   "provenance": []
  },
  "kernelspec": {
   "display_name": "Full on Python 3.6 (GPU)",
   "language": "python",
   "name": "python3"
  },
  "language_info": {
   "codemirror_mode": {
    "name": "ipython",
    "version": 3
   },
   "file_extension": ".py",
   "mimetype": "text/x-python",
   "name": "python",
   "nbconvert_exporter": "python",
   "pygments_lexer": "ipython3",
   "version": "3.6.14"
  }
 },
 "nbformat": 4,
 "nbformat_minor": 4
}
